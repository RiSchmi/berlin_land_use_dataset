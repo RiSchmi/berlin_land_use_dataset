{
 "cells": [
  {
   "cell_type": "code",
   "execution_count": 1,
   "metadata": {},
   "outputs": [
    {
     "name": "stdout",
     "output_type": "stream",
     "text": [
      "<class 'pandas.core.frame.DataFrame'>\n",
      "Int64Index: 140144 entries, 0 to 140143\n",
      "Data columns (total 32 columns):\n",
      " #   Column              Non-Null Count   Dtype  \n",
      "---  ------              --------------   -----  \n",
      " 0   MESS_DATUM          140144 non-null  int64  \n",
      " 1   id                  140144 non-null  object \n",
      " 2   Stickstoffdioxid    140144 non-null  float64\n",
      " 3   prec_mm             140144 non-null  float64\n",
      " 4   prec_bool           140144 non-null  float64\n",
      " 5   humidity            140144 non-null  float64\n",
      " 6   temp                140144 non-null  float64\n",
      " 7   radiation           140144 non-null  float64\n",
      " 8   wind_degree         140144 non-null  float64\n",
      " 9   wind_speed          140144 non-null  float64\n",
      " 10  air_pressure        140144 non-null  float64\n",
      " 11  free_wind           140144 non-null  int64  \n",
      " 12  prop_intercept_200  140144 non-null  float64\n",
      " 13  prop_intercept_50   140144 non-null  float64\n",
      " 14  GVI_25              140144 non-null  float64\n",
      " 15  GVI_50              140144 non-null  float64\n",
      " 16  GVI_75              140144 non-null  float64\n",
      " 17  GVI_100             140144 non-null  float64\n",
      " 18  GVI_200             140144 non-null  float64\n",
      " 19  tvi_25              140144 non-null  float64\n",
      " 20  tvi_50              140144 non-null  float64\n",
      " 21  tvi_75              140144 non-null  float64\n",
      " 22  tvi_100             140144 non-null  float64\n",
      " 23  tvi_200             140144 non-null  float64\n",
      " 24  prop_main_          140144 non-null  float64\n",
      " 25  nearest_st          140144 non-null  float64\n",
      " 26  nearest_in          140144 non-null  float64\n",
      " 27  pop_200             140144 non-null  float64\n",
      " 28  pop_500             140144 non-null  float64\n",
      " 29  weekend             140144 non-null  bool   \n",
      " 30  rushhour            140144 non-null  bool   \n",
      " 31  lai_factor          140144 non-null  float64\n",
      "dtypes: bool(2), float64(27), int64(2), object(1)\n",
      "memory usage: 33.4+ MB\n"
     ]
    }
   ],
   "source": [
    "# import data\n",
    "import pandas as pd\n",
    "import geopandas as gpd\n",
    "\n",
    "# combined (spatial-temporal) dataset with N02, time_id, meterological & wind access feature\n",
    "main = pd.read_csv('data/datasets/poll_metre_wind.csv').drop('Unnamed: 0', axis = 1)\n",
    "\n",
    "# load street canyon (spatial only)\n",
    "canyon = pd.read_csv('data/datasets/canyon.csv').drop(['Unnamed: 0', 'stattyp', 'geometry', 'border_values'], axis = 1)\n",
    "canyon['id'] = canyon['id'].apply(lambda x : x.lower().replace(' ', '')[:5])\n",
    "canyon = canyon[(canyon['id']!='mc014')&(canyon['id']!='mc085')]\n",
    "main = pd.merge(main, canyon, on = 'id', how= 'outer') # bind\n",
    "\n",
    "# greenery\n",
    "greenery_gpd = gpd.read_file('data/green_volume/buffer_values/buffer_values.shp').drop(['geometry','stattyp'], axis = 1)\n",
    "greenery_gpd['id'] = greenery_gpd['id'].apply(lambda x : x.lower().replace(' ', '')[:5])\n",
    "greenery_gpd = greenery_gpd[(greenery_gpd['id']!='mc014')&(greenery_gpd['id']!='mc085')]\n",
    "main = pd.merge(main, greenery_gpd, on = 'id', how= 'outer') # bind\n",
    "\n",
    "# traffic\n",
    "traffic_gpd = gpd.read_file('data/traffic/buffer_values/sites_traffic.shp').drop(['geometry', 'stattyp'], axis = 1)\n",
    "traffic_gpd['id'] = traffic_gpd['id'].apply(lambda x : x.lower().replace(' ', '')[:5])\n",
    "traffic_gpd = traffic_gpd[(traffic_gpd['id']!='mc014')&(traffic_gpd['id']!='mc085')]\n",
    "main = pd.merge(main, traffic_gpd, on = 'id', how= 'outer')\n",
    "\n",
    "# population\n",
    "popu_gpd = gpd.read_file('data/population/buffer_radius/population_per_site.shp').drop(['geometry','stattyp' ], axis = 1)\n",
    "popu_gpd['id'] = popu_gpd['id'].apply(lambda x : x.lower().replace(' ', '')[:5])\n",
    "popu_gpd = popu_gpd[(popu_gpd['id']!='mc014')&(popu_gpd['id']!='mc085')]\n",
    "main = pd.merge(main, popu_gpd, on = 'id', how= 'outer')\n",
    "\n",
    "# time\n",
    "date = pd.read_csv('data/datasets/date.csv').drop('Unnamed: 0', axis= 1)\n",
    "main = pd.merge(main, date, on = 'MESS_DATUM', how= 'inner')\n",
    "\n",
    "# leaf area index factor\n",
    "lai = pd.read_csv(\"data/datasets/lai_factor.csv\").drop('Unnamed: 0', axis= 1)\n",
    "main = pd.merge(main, lai, on = 'MESS_DATUM', how= 'inner')\n",
    "\n",
    "#distance city center\n",
    "\n",
    "\n",
    "main.info()\n"
   ]
  },
  {
   "cell_type": "code",
   "execution_count": 2,
   "metadata": {},
   "outputs": [
    {
     "name": "stdout",
     "output_type": "stream",
     "text": [
      "Coordinate Reference System monitoring sites: EPSG:4326\n"
     ]
    }
   ],
   "source": [
    "import geopandas \n",
    "from shapely.geometry import Point\n",
    "\n",
    "sites = geopandas.read_file('data/monitoring_station/monitoring_station.shp')[['id', 'geometry']].to_crs('EPSG:4326')\n",
    "print(f'Coordinate Reference System monitoring sites: {sites.crs}')\n",
    "\n",
    "def distance_center(point1):\n",
    "    '''calculate distance from point to centroid\n",
    "    -------\n",
    "    * longitude, latitude = coordinates of defined centroid\n",
    "    * point1: long, lat array with shape: (2,)\n",
    "    * RETURN: distance between points in km\n",
    "    '''\n",
    "    center_point = gpd.GeoDataFrame(index=[0], crs='EPSG:4326', geometry=[Point(13.40945,52.520803)])\n",
    "    center_point = center_point.to_crs('EPSG:25833').geometry[0]\n",
    "\n",
    "    point = gpd.GeoDataFrame(index=[0], crs='EPSG:4326', geometry= [point1])\n",
    "    point = point.to_crs('EPSG:25833').geometry[0]\n",
    "\n",
    "    return center_point.distance(point) # in km\n",
    "# Assuming gdf is a GeoDataFrame with points needing latitude and longitude swapped\n",
    "#sites['geometry'] = sites['geometry'].apply(lambda point: Point(point.y, point.x))\n",
    "sites['distance_city'] = sites['geometry'].apply(lambda x: distance_center(x))\n",
    "sites['id'] = sites['id'].apply(lambda x: x.replace(' ','').lower())\n",
    "sites = sites.drop(['geometry'], axis = 1)\n",
    "main = pd.merge(main, sites, on = 'id', how= 'outer')\n"
   ]
  }
 ],
 "metadata": {
  "kernelspec": {
   "display_name": "Python 3",
   "language": "python",
   "name": "python3"
  },
  "language_info": {
   "codemirror_mode": {
    "name": "ipython",
    "version": 3
   },
   "file_extension": ".py",
   "mimetype": "text/x-python",
   "name": "python",
   "nbconvert_exporter": "python",
   "pygments_lexer": "ipython3",
   "version": "3.11.3"
  }
 },
 "nbformat": 4,
 "nbformat_minor": 2
}
